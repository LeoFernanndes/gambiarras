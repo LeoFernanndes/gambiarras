{
  "nbformat": 4,
  "nbformat_minor": 0,
  "metadata": {
    "colab": {
      "name": "GupyScraping.ipynb",
      "provenance": [],
      "collapsed_sections": [],
      "authorship_tag": "ABX9TyMhS0Y7UjXKBZbP6E7Oslmw",
      "include_colab_link": true
    },
    "kernelspec": {
      "name": "python3",
      "display_name": "Python 3"
    }
  },
  "cells": [
    {
      "cell_type": "markdown",
      "metadata": {
        "id": "view-in-github",
        "colab_type": "text"
      },
      "source": [
        "<a href=\"https://colab.research.google.com/github/LeoFernanndes/gambiarras/blob/main/GupyScraping.ipynb\" target=\"_parent\"><img src=\"https://colab.research.google.com/assets/colab-badge.svg\" alt=\"Open In Colab\"/></a>"
      ]
    },
    {
      "cell_type": "code",
      "metadata": {
        "id": "5cyVER8pA-bW"
      },
      "source": [
        "import pandas as pd\r\n",
        "import requests\r\n",
        "from bs4 import BeautifulSoup"
      ],
      "execution_count": 3,
      "outputs": []
    },
    {
      "cell_type": "markdown",
      "metadata": {
        "id": "WkHb5fEhhqj4"
      },
      "source": [
        "Teste de uma primeira requisição"
      ]
    },
    {
      "cell_type": "code",
      "metadata": {
        "colab": {
          "base_uri": "https://localhost:8080/"
        },
        "id": "zKP061W-DXRE",
        "outputId": "3a2e05fe-c097-4cab-d7d0-86affa580d5f"
      },
      "source": [
        "req = requests.get(\"https://www.gupy.io/login/\")\r\n",
        "\r\n",
        "if req.status_code == 200:\r\n",
        "    print('Requisição bem sucedida!')\r\n",
        "    content = req.content"
      ],
      "execution_count": 4,
      "outputs": [
        {
          "output_type": "stream",
          "text": [
            "Requisição bem sucedida!\n"
          ],
          "name": "stdout"
        }
      ]
    },
    {
      "cell_type": "markdown",
      "metadata": {
        "id": "FTpsT-UHhuvr"
      },
      "source": [
        "Antes de montar o loop, é importante entender a estrutura do html da página.\r\n",
        "Vale começar dando uma olhada na documentação.\r\n",
        "\r\n",
        "https://www.crummy.com/software/BeautifulSoup/bs4/doc/"
      ]
    },
    {
      "cell_type": "code",
      "metadata": {
        "colab": {
          "base_uri": "https://localhost:8080/",
          "height": 35
        },
        "id": "fAm8Zfj1DtVT",
        "outputId": "93ebcc01-7c2a-4cea-aaf9-ea05eabcc07d"
      },
      "source": [
        "# dando uma investigada na estrutura pra montar o loop\r\n",
        "soup = BeautifulSoup(content, 'html.parser')\r\n",
        "soup.find_all(name='tr')[1].find_all(name='td')[1].a.get('href')"
      ],
      "execution_count": 5,
      "outputs": [
        {
          "output_type": "execute_result",
          "data": {
            "application/vnd.google.colaboratory.intrinsic+json": {
              "type": "string"
            },
            "text/plain": [
              "'https://4all.gupy.io/'"
            ]
          },
          "metadata": {
            "tags": []
          },
          "execution_count": 5
        }
      ]
    },
    {
      "cell_type": "code",
      "metadata": {
        "colab": {
          "base_uri": "https://localhost:8080/",
          "height": 391
        },
        "id": "OFmZNblEKe3E",
        "outputId": "b8ce0845-cb40-4733-b6e6-d875da53b7f0"
      },
      "source": [
        "lista_empresas = []\r\n",
        "lista_links = []\r\n",
        "\r\n",
        "for tr in soup.find_all(name='tr'):  \r\n",
        "  td_list = tr.find_all(name='td')\r\n",
        "  \r\n",
        "  if hasattr(td_list[1].a, 'href'): # escapar as linhas sem link    \r\n",
        "    # empresa\r\n",
        "    empresa = td_list[0].text\r\n",
        "    lista_empresas.append(empresa)\r\n",
        "    #link    \r\n",
        "    link = td_list[1].a.get('href')\r\n",
        "    lista_links.append(link)\r\n",
        "\r\n",
        "df_empresas = pd.DataFrame({'Empresa': lista_empresas,\r\n",
        "                            'Link': lista_links})\r\n",
        "\r\n",
        "df_empresas"
      ],
      "execution_count": 6,
      "outputs": [
        {
          "output_type": "execute_result",
          "data": {
            "text/html": [
              "<div>\n",
              "<style scoped>\n",
              "    .dataframe tbody tr th:only-of-type {\n",
              "        vertical-align: middle;\n",
              "    }\n",
              "\n",
              "    .dataframe tbody tr th {\n",
              "        vertical-align: top;\n",
              "    }\n",
              "\n",
              "    .dataframe thead th {\n",
              "        text-align: right;\n",
              "    }\n",
              "</style>\n",
              "<table border=\"1\" class=\"dataframe\">\n",
              "  <thead>\n",
              "    <tr style=\"text-align: right;\">\n",
              "      <th></th>\n",
              "      <th>Empresa</th>\n",
              "      <th>Link</th>\n",
              "    </tr>\n",
              "  </thead>\n",
              "  <tbody>\n",
              "    <tr>\n",
              "      <th>0</th>\n",
              "      <td>4All</td>\n",
              "      <td>https://4all.gupy.io/</td>\n",
              "    </tr>\n",
              "    <tr>\n",
              "      <th>1</th>\n",
              "      <td>Banco ABC Brasil</td>\n",
              "      <td>https://abcbrasil.gupy.io/</td>\n",
              "    </tr>\n",
              "    <tr>\n",
              "      <th>2</th>\n",
              "      <td>AB InBev Chile</td>\n",
              "      <td>https://abinbevchile.gupy.io/</td>\n",
              "    </tr>\n",
              "    <tr>\n",
              "      <th>3</th>\n",
              "      <td>ACCT Consulting &amp; Technology</td>\n",
              "      <td>https://acct.gupy.io/</td>\n",
              "    </tr>\n",
              "    <tr>\n",
              "      <th>4</th>\n",
              "      <td>Acesso Digital</td>\n",
              "      <td>https://acessodigital.gupy.io/</td>\n",
              "    </tr>\n",
              "    <tr>\n",
              "      <th>...</th>\n",
              "      <td>...</td>\n",
              "      <td>...</td>\n",
              "    </tr>\n",
              "    <tr>\n",
              "      <th>701</th>\n",
              "      <td>Zaffarinet</td>\n",
              "      <td>https://zaffarinet.gupy.io/</td>\n",
              "    </tr>\n",
              "    <tr>\n",
              "      <th>702</th>\n",
              "      <td>Zallpy</td>\n",
              "      <td>https://zallpy.gupy.io/</td>\n",
              "    </tr>\n",
              "    <tr>\n",
              "      <th>703</th>\n",
              "      <td>Zee-Dog</td>\n",
              "      <td>https://zee-dog.gupy.io/</td>\n",
              "    </tr>\n",
              "    <tr>\n",
              "      <th>704</th>\n",
              "      <td>Zenvia</td>\n",
              "      <td>https://zenvia.gupy.io/</td>\n",
              "    </tr>\n",
              "    <tr>\n",
              "      <th>705</th>\n",
              "      <td>Zoom-Buscape</td>\n",
              "      <td>https://zoom-buscape.gupy.io/</td>\n",
              "    </tr>\n",
              "  </tbody>\n",
              "</table>\n",
              "<p>706 rows × 2 columns</p>\n",
              "</div>"
            ],
            "text/plain": [
              "                          Empresa                            Link\n",
              "0                            4All           https://4all.gupy.io/\n",
              "1                Banco ABC Brasil      https://abcbrasil.gupy.io/\n",
              "2                  AB InBev Chile   https://abinbevchile.gupy.io/\n",
              "3    ACCT Consulting & Technology           https://acct.gupy.io/\n",
              "4                  Acesso Digital  https://acessodigital.gupy.io/\n",
              "..                            ...                             ...\n",
              "701                    Zaffarinet     https://zaffarinet.gupy.io/\n",
              "702                        Zallpy         https://zallpy.gupy.io/\n",
              "703                       Zee-Dog        https://zee-dog.gupy.io/\n",
              "704                        Zenvia         https://zenvia.gupy.io/\n",
              "705                  Zoom-Buscape   https://zoom-buscape.gupy.io/\n",
              "\n",
              "[706 rows x 2 columns]"
            ]
          },
          "metadata": {
            "tags": []
          },
          "execution_count": 6
        }
      ]
    },
    {
      "cell_type": "code",
      "metadata": {
        "colab": {
          "base_uri": "https://localhost:8080/",
          "height": 391
        },
        "id": "37GlakG7Xmsq",
        "outputId": "954bee68-bfc0-4b52-c76c-ead8f2bf253b"
      },
      "source": [
        "lista_empresas = []\r\n",
        "lista_vagas = []\r\n",
        "lista_local = []\r\n",
        "lista_remoto = []\r\n",
        "lista_links = []\r\n",
        "\r\n",
        "for i in range(df_empresas.shape[0]):\r\n",
        "\r\n",
        "  nome_empresa = df_empresas.loc[i]['Empresa']\r\n",
        "  link_empresa = df_empresas.loc[i]['Link']\r\n",
        "\r\n",
        "  req_empresa = requests.get(link_empresa)\r\n",
        "  if req_empresa.status_code != 200:\r\n",
        "    continue\r\n",
        "\r\n",
        "  content = req_empresa.content\r\n",
        "  soup = BeautifulSoup(content, 'html.parser')\r\n",
        "\r\n",
        "  for tr in soup.find_all(name='tr'):\r\n",
        "\r\n",
        "    lista_empresas.append(nome_empresa)\r\n",
        "\r\n",
        "    vaga = tr.find_all(name='td')[0].span.text.strip()\r\n",
        "    lista_vagas.append(vaga)\r\n",
        "\r\n",
        "    local = tr.find_all(name='td')[1].strong.text.replace('\\n', '').strip()\r\n",
        "    lista_local.append(local)\r\n",
        "\r\n",
        "    remoto = 'remot' in tr.find_all(name='td')[1].strong.text.strip().lower()\r\n",
        "    lista_remoto.append(remoto)\r\n",
        "\r\n",
        "    link_relativo_vaga = tr.find_all(name='td')[0].a.get('href')\r\n",
        "    link_vaga = link_empresa+link_relativo_vaga[1:]\r\n",
        "    lista_links.append(link_vaga)\r\n",
        "\r\n",
        "df_vagas = pd.DataFrame({\r\n",
        "    'Empresa': lista_empresas,\r\n",
        "    'Vaga': lista_vagas,\r\n",
        "    'Local': lista_local,\r\n",
        "    'Remoto': lista_remoto,\r\n",
        "    'Link': lista_links\r\n",
        "})\r\n",
        "\r\n",
        "df_vagas"
      ],
      "execution_count": 7,
      "outputs": [
        {
          "output_type": "execute_result",
          "data": {
            "text/html": [
              "<div>\n",
              "<style scoped>\n",
              "    .dataframe tbody tr th:only-of-type {\n",
              "        vertical-align: middle;\n",
              "    }\n",
              "\n",
              "    .dataframe tbody tr th {\n",
              "        vertical-align: top;\n",
              "    }\n",
              "\n",
              "    .dataframe thead th {\n",
              "        text-align: right;\n",
              "    }\n",
              "</style>\n",
              "<table border=\"1\" class=\"dataframe\">\n",
              "  <thead>\n",
              "    <tr style=\"text-align: right;\">\n",
              "      <th></th>\n",
              "      <th>Empresa</th>\n",
              "      <th>Vaga</th>\n",
              "      <th>Local</th>\n",
              "      <th>Remoto</th>\n",
              "      <th>Link</th>\n",
              "    </tr>\n",
              "  </thead>\n",
              "  <tbody>\n",
              "    <tr>\n",
              "      <th>0</th>\n",
              "      <td>4All</td>\n",
              "      <td>Analista de Conteúdo [Phi]</td>\n",
              "      <td>Porto Alegre/RS                and Remote</td>\n",
              "      <td>True</td>\n",
              "      <td>https://4all.gupy.io/jobs/492577?jobBoardSourc...</td>\n",
              "    </tr>\n",
              "    <tr>\n",
              "      <th>1</th>\n",
              "      <td>4All</td>\n",
              "      <td>Analista de Testes PL/SR [Food Rocket]</td>\n",
              "      <td>Porto Alegre/RS                and Remote</td>\n",
              "      <td>True</td>\n",
              "      <td>https://4all.gupy.io/jobs/368291?jobBoardSourc...</td>\n",
              "    </tr>\n",
              "    <tr>\n",
              "      <th>2</th>\n",
              "      <td>4All</td>\n",
              "      <td>Designer [Phi]</td>\n",
              "      <td>Porto Alegre/RS                and Remote</td>\n",
              "      <td>True</td>\n",
              "      <td>https://4all.gupy.io/jobs/492632?jobBoardSourc...</td>\n",
              "    </tr>\n",
              "    <tr>\n",
              "      <th>3</th>\n",
              "      <td>4All</td>\n",
              "      <td>Dev Back-end  Node.JS Pleno [DX]</td>\n",
              "      <td>Porto Alegre/RS                and Remote</td>\n",
              "      <td>True</td>\n",
              "      <td>https://4all.gupy.io/jobs/498229?jobBoardSourc...</td>\n",
              "    </tr>\n",
              "    <tr>\n",
              "      <th>4</th>\n",
              "      <td>4All</td>\n",
              "      <td>Dev Back-end  Node.JS Pleno  [Phi]</td>\n",
              "      <td>Porto Alegre/RS                and Remote</td>\n",
              "      <td>True</td>\n",
              "      <td>https://4all.gupy.io/jobs/466720?jobBoardSourc...</td>\n",
              "    </tr>\n",
              "    <tr>\n",
              "      <th>...</th>\n",
              "      <td>...</td>\n",
              "      <td>...</td>\n",
              "      <td>...</td>\n",
              "      <td>...</td>\n",
              "      <td>...</td>\n",
              "    </tr>\n",
              "    <tr>\n",
              "      <th>14993</th>\n",
              "      <td>Zoom-Buscape</td>\n",
              "      <td>Product Owner</td>\n",
              "      <td>Rio de Janeiro                and Remote</td>\n",
              "      <td>True</td>\n",
              "      <td>https://zoom-buscape.gupy.io/jobs/593438?jobBo...</td>\n",
              "    </tr>\n",
              "    <tr>\n",
              "      <th>14994</th>\n",
              "      <td>Zoom-Buscape</td>\n",
              "      <td>Software Engineer - Front End</td>\n",
              "      <td>Rio de Janeiro                and Remote</td>\n",
              "      <td>True</td>\n",
              "      <td>https://zoom-buscape.gupy.io/jobs/471433?jobBo...</td>\n",
              "    </tr>\n",
              "    <tr>\n",
              "      <th>14995</th>\n",
              "      <td>Zoom-Buscape</td>\n",
              "      <td>Software Engineer - Full stack</td>\n",
              "      <td>Rio de Janeiro                and Remote</td>\n",
              "      <td>True</td>\n",
              "      <td>https://zoom-buscape.gupy.io/jobs/471348?jobBo...</td>\n",
              "    </tr>\n",
              "    <tr>\n",
              "      <th>14996</th>\n",
              "      <td>Zoom-Buscape</td>\n",
              "      <td>Software Engineer - Mobile</td>\n",
              "      <td>Rio de Janeiro/RJ                and Remote</td>\n",
              "      <td>True</td>\n",
              "      <td>https://zoom-buscape.gupy.io/jobs/192695?jobBo...</td>\n",
              "    </tr>\n",
              "    <tr>\n",
              "      <th>14997</th>\n",
              "      <td>Zoom-Buscape</td>\n",
              "      <td>Tech Lead</td>\n",
              "      <td>Rio de Janeiro                and Remote</td>\n",
              "      <td>True</td>\n",
              "      <td>https://zoom-buscape.gupy.io/jobs/580625?jobBo...</td>\n",
              "    </tr>\n",
              "  </tbody>\n",
              "</table>\n",
              "<p>14998 rows × 5 columns</p>\n",
              "</div>"
            ],
            "text/plain": [
              "            Empresa  ...                                               Link\n",
              "0              4All  ...  https://4all.gupy.io/jobs/492577?jobBoardSourc...\n",
              "1              4All  ...  https://4all.gupy.io/jobs/368291?jobBoardSourc...\n",
              "2              4All  ...  https://4all.gupy.io/jobs/492632?jobBoardSourc...\n",
              "3              4All  ...  https://4all.gupy.io/jobs/498229?jobBoardSourc...\n",
              "4              4All  ...  https://4all.gupy.io/jobs/466720?jobBoardSourc...\n",
              "...             ...  ...                                                ...\n",
              "14993  Zoom-Buscape  ...  https://zoom-buscape.gupy.io/jobs/593438?jobBo...\n",
              "14994  Zoom-Buscape  ...  https://zoom-buscape.gupy.io/jobs/471433?jobBo...\n",
              "14995  Zoom-Buscape  ...  https://zoom-buscape.gupy.io/jobs/471348?jobBo...\n",
              "14996  Zoom-Buscape  ...  https://zoom-buscape.gupy.io/jobs/192695?jobBo...\n",
              "14997  Zoom-Buscape  ...  https://zoom-buscape.gupy.io/jobs/580625?jobBo...\n",
              "\n",
              "[14998 rows x 5 columns]"
            ]
          },
          "metadata": {
            "tags": []
          },
          "execution_count": 7
        }
      ]
    },
    {
      "cell_type": "code",
      "metadata": {
        "id": "bZjKO57GoAOL"
      },
      "source": [
        "from datetime import date\r\n",
        "\r\n",
        "dia = str(date.today())\r\n",
        "\r\n",
        "df_vagas.to_excel(f'vagas_gupy_{dia}.xlsx', index=False, encoding='utf-8')"
      ],
      "execution_count": 8,
      "outputs": []
    },
    {
      "cell_type": "code",
      "metadata": {
        "colab": {
          "base_uri": "https://localhost:8080/",
          "height": 391
        },
        "id": "2ZmJQYi0yhN0",
        "outputId": "a47d032b-4c1e-4b1c-d922-835bed2737f7"
      },
      "source": [
        "df_vagas[(df_vagas['Vaga'].str.contains('data|dados', case=False)) & (df_vagas['Remoto'] == True)] # exemplo de filtragem"
      ],
      "execution_count": 9,
      "outputs": [
        {
          "output_type": "execute_result",
          "data": {
            "text/html": [
              "<div>\n",
              "<style scoped>\n",
              "    .dataframe tbody tr th:only-of-type {\n",
              "        vertical-align: middle;\n",
              "    }\n",
              "\n",
              "    .dataframe tbody tr th {\n",
              "        vertical-align: top;\n",
              "    }\n",
              "\n",
              "    .dataframe thead th {\n",
              "        text-align: right;\n",
              "    }\n",
              "</style>\n",
              "<table border=\"1\" class=\"dataframe\">\n",
              "  <thead>\n",
              "    <tr style=\"text-align: right;\">\n",
              "      <th></th>\n",
              "      <th>Empresa</th>\n",
              "      <th>Vaga</th>\n",
              "      <th>Local</th>\n",
              "      <th>Remoto</th>\n",
              "      <th>Link</th>\n",
              "    </tr>\n",
              "  </thead>\n",
              "  <tbody>\n",
              "    <tr>\n",
              "      <th>191</th>\n",
              "      <td>Afya</td>\n",
              "      <td>Product Owner de Dados</td>\n",
              "      <td>São Paulo/SP                and Remote</td>\n",
              "      <td>True</td>\n",
              "      <td>https://afya.gupy.io/jobs/644927?jobBoardSourc...</td>\n",
              "    </tr>\n",
              "    <tr>\n",
              "      <th>246</th>\n",
              "      <td>Agrotools</td>\n",
              "      <td>Data Science - Presencial e/ou Home Office</td>\n",
              "      <td>São José dos Campos/SP                and Remote</td>\n",
              "      <td>True</td>\n",
              "      <td>https://agrotools.gupy.io/jobs/630415?jobBoard...</td>\n",
              "    </tr>\n",
              "    <tr>\n",
              "      <th>976</th>\n",
              "      <td>Amcom</td>\n",
              "      <td>Administrador de Banco de Dados - DBA</td>\n",
              "      <td>Blumenau/SC                and Remote</td>\n",
              "      <td>True</td>\n",
              "      <td>https://amcom.gupy.io/jobs/639564?jobBoardSour...</td>\n",
              "    </tr>\n",
              "    <tr>\n",
              "      <th>1004</th>\n",
              "      <td>Amcom</td>\n",
              "      <td>Engenheiro de Dados</td>\n",
              "      <td>Blumenau/SC                and Remote</td>\n",
              "      <td>True</td>\n",
              "      <td>https://amcom.gupy.io/jobs/638948?jobBoardSour...</td>\n",
              "    </tr>\n",
              "    <tr>\n",
              "      <th>1024</th>\n",
              "      <td>Amparo Saúde</td>\n",
              "      <td>Data Engineer Senior</td>\n",
              "      <td>São Paulo                and Remote</td>\n",
              "      <td>True</td>\n",
              "      <td>https://amparosaude.gupy.io/jobs/504012?jobBoa...</td>\n",
              "    </tr>\n",
              "    <tr>\n",
              "      <th>...</th>\n",
              "      <td>...</td>\n",
              "      <td>...</td>\n",
              "      <td>...</td>\n",
              "      <td>...</td>\n",
              "      <td>...</td>\n",
              "    </tr>\n",
              "    <tr>\n",
              "      <th>14227</th>\n",
              "      <td>Will Bank</td>\n",
              "      <td>Remote Data Engineer Pleno</td>\n",
              "      <td>Remote Work</td>\n",
              "      <td>True</td>\n",
              "      <td>https://vemserwill.gupy.io/jobs/521806?jobBoar...</td>\n",
              "    </tr>\n",
              "    <tr>\n",
              "      <th>14228</th>\n",
              "      <td>Will Bank</td>\n",
              "      <td>Remote Data Engineer Sênior</td>\n",
              "      <td>São Paulo                and Remote</td>\n",
              "      <td>True</td>\n",
              "      <td>https://vemserwill.gupy.io/jobs/573045?jobBoar...</td>\n",
              "    </tr>\n",
              "    <tr>\n",
              "      <th>14420</th>\n",
              "      <td>Via Varejo</td>\n",
              "      <td>Data Analyst CRM Sênior - Remoto</td>\n",
              "      <td>São Caetano do Sul/SP                and Remote</td>\n",
              "      <td>True</td>\n",
              "      <td>https://viavarejo.gupy.io/jobs/634889?jobBoard...</td>\n",
              "    </tr>\n",
              "    <tr>\n",
              "      <th>14583</th>\n",
              "      <td>Vivo</td>\n",
              "      <td>Consultor (a) serviços implantação Big Data &amp; IOT</td>\n",
              "      <td>São Paulo/SP                and Remote</td>\n",
              "      <td>True</td>\n",
              "      <td>https://vivo.gupy.io/jobs/565587?jobBoardSourc...</td>\n",
              "    </tr>\n",
              "    <tr>\n",
              "      <th>14976</th>\n",
              "      <td>Zenvia</td>\n",
              "      <td>Senior Data Engineer</td>\n",
              "      <td>Brasil                and Remote</td>\n",
              "      <td>True</td>\n",
              "      <td>https://zenvia.gupy.io/jobs/518545?jobBoardSou...</td>\n",
              "    </tr>\n",
              "  </tbody>\n",
              "</table>\n",
              "<p>110 rows × 5 columns</p>\n",
              "</div>"
            ],
            "text/plain": [
              "            Empresa  ...                                               Link\n",
              "191            Afya  ...  https://afya.gupy.io/jobs/644927?jobBoardSourc...\n",
              "246       Agrotools  ...  https://agrotools.gupy.io/jobs/630415?jobBoard...\n",
              "976           Amcom  ...  https://amcom.gupy.io/jobs/639564?jobBoardSour...\n",
              "1004          Amcom  ...  https://amcom.gupy.io/jobs/638948?jobBoardSour...\n",
              "1024   Amparo Saúde  ...  https://amparosaude.gupy.io/jobs/504012?jobBoa...\n",
              "...             ...  ...                                                ...\n",
              "14227     Will Bank  ...  https://vemserwill.gupy.io/jobs/521806?jobBoar...\n",
              "14228     Will Bank  ...  https://vemserwill.gupy.io/jobs/573045?jobBoar...\n",
              "14420    Via Varejo  ...  https://viavarejo.gupy.io/jobs/634889?jobBoard...\n",
              "14583          Vivo  ...  https://vivo.gupy.io/jobs/565587?jobBoardSourc...\n",
              "14976        Zenvia  ...  https://zenvia.gupy.io/jobs/518545?jobBoardSou...\n",
              "\n",
              "[110 rows x 5 columns]"
            ]
          },
          "metadata": {
            "tags": []
          },
          "execution_count": 9
        }
      ]
    }
  ]
}